{
 "cells": [
  {
   "cell_type": "code",
   "execution_count": 1,
   "id": "3aefb7c3-61f8-4d1b-ad74-2c4a8d0b940d",
   "metadata": {},
   "outputs": [],
   "source": [
    "import numpy as np"
   ]
  },
  {
   "cell_type": "code",
   "execution_count": 40,
   "id": "7a6dd27c-25bb-402e-9690-629e812d0b25",
   "metadata": {},
   "outputs": [],
   "source": [
    "def get_int(digits=10):\n",
    "    num = []\n",
    "    for i in range(digits):\n",
    "        if i == 0:\n",
    "            num.append(str(np.random.randint(1,9)))\n",
    "        else:\n",
    "            num.append(str(np.random.randint(0,9)))\n",
    "    return str(''.join(num))"
   ]
  },
  {
   "cell_type": "code",
   "execution_count": 41,
   "id": "dd50e92d-9163-418c-b4d5-8ad06fb592ba",
   "metadata": {},
   "outputs": [
    {
     "data": {
      "text/plain": [
       "str"
      ]
     },
     "execution_count": 41,
     "metadata": {},
     "output_type": "execute_result"
    }
   ],
   "source": [
    "type(get_int())"
   ]
  },
  {
   "cell_type": "code",
   "execution_count": 45,
   "id": "9d791833-0db6-4c4b-9dc2-c0ede14cbba7",
   "metadata": {},
   "outputs": [],
   "source": [
    "nums = []\n",
    "with open('nums_test.txt','w') as file:\n",
    "    for i in range(10):\n",
    "        num = get_int(10)\n",
    "        nums.append(int(num))\n",
    "        file.write(num+'\\n')"
   ]
  },
  {
   "cell_type": "code",
   "execution_count": 46,
   "id": "0666b8aa-8e4b-4315-94fe-ae68da95c33a",
   "metadata": {},
   "outputs": [
    {
     "data": {
      "text/plain": [
       "'ab'"
      ]
     },
     "execution_count": 46,
     "metadata": {},
     "output_type": "execute_result"
    }
   ],
   "source": [
    "''.join(['a','b'])"
   ]
  },
  {
   "cell_type": "code",
   "execution_count": 47,
   "id": "effc1473-c7dd-4273-b030-01eed41b3a43",
   "metadata": {},
   "outputs": [
    {
     "name": "stdout",
     "output_type": "stream",
     "text": [
      "[2434810521, 2576631272, 1354858720, 8205158442, 2657457782, 3778220463, 8178842041, 3304073105, 2071010043, 6302816623]\n"
     ]
    },
    {
     "data": {
      "text/plain": [
       "40863879012"
      ]
     },
     "execution_count": 47,
     "metadata": {},
     "output_type": "execute_result"
    }
   ],
   "source": [
    "print(nums)\n",
    "sum(nums)"
   ]
  },
  {
   "cell_type": "code",
   "execution_count": null,
   "id": "a92ab118-60f6-4046-8a7b-3a4f1578e470",
   "metadata": {},
   "outputs": [],
   "source": []
  }
 ],
 "metadata": {
  "kernelspec": {
   "display_name": "Python 3 (ipykernel)",
   "language": "python",
   "name": "python3"
  },
  "language_info": {
   "codemirror_mode": {
    "name": "ipython",
    "version": 3
   },
   "file_extension": ".py",
   "mimetype": "text/x-python",
   "name": "python",
   "nbconvert_exporter": "python",
   "pygments_lexer": "ipython3",
   "version": "3.9.15"
  }
 },
 "nbformat": 4,
 "nbformat_minor": 5
}
